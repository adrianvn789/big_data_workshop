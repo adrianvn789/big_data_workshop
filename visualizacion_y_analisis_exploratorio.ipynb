{
 "cells": [
  {
   "cell_type": "markdown",
   "id": "ddf182ba-43ef-41fb-b61c-eda1f091ba94",
   "metadata": {
    "id": "ddf182ba-43ef-41fb-b61c-eda1f091ba94"
   },
   "source": [
    "# Visualización y análisis exploratorio\n",
    "En este notebook aprenderemos a crear visualizaciones a partir de los datos y a inferir"
   ]
  },
  {
   "cell_type": "markdown",
   "id": "b12cf06b-ec95-4bf1-b562-fc310e9f8c1a",
   "metadata": {
    "id": "b12cf06b-ec95-4bf1-b562-fc310e9f8c1a",
    "tags": []
   },
   "source": [
    "## Dataset\n",
    "Para revisar este tema, utilizaremos el dfset del Indice de Desempeño Académico (API) de todas las escuelas de California, basado en el test estandarizado de estudiantes. Este dfset contiene información de todas las escuelas con al menos 100 estudiantes. El formato es el siguiente.\n",
    "\n",
    "Format </br>\n",
    "The full population df in apipop are a df frame with 6194 observations on the following 37 variables.\n",
    "- cds: Unique identifier\n",
    "- stype: Elementary/Middle/High School\n",
    "- name: School name (15 characters)\n",
    "- sname: School name (40 characters)\n",
    "- snum: School number\n",
    "- dname: District name\n",
    "- dnum: District number\n",
    "- cname: County name\n",
    "- cnum: County number\n",
    "- flag: reason for missing df\n",
    "- pcttest: percentage of students tested\n",
    "- api00: API in 2000\n",
    "- api99: API in 1999\n",
    "- target: target for change in API\n",
    "- growth: Change in API\n",
    "- sch.wide: Met school-wide growth target?\n",
    "- comp.imp: Met Comparable Improvement target\n",
    "- both: Met both targets\n",
    "- awards: Eligible for awards program\n",
    "- meals: Percentage of students eligible for subsidized meals\n",
    "- ell: `English Language Learners' (percent)\n",
    "- yr.rnd: Year-round school\n",
    "- mobility: percentage of students for whom this is the first year at the school\n",
    "- acs.k3: average class size years K-3\n",
    "- acs.46: average class size years 4-6\n",
    "- acs.core: Number of core academic courses\n",
    "- pct.resp: percent where parental education level is known\n",
    "- not.hsg: percent parents not high-school graduates\n",
    "- hsg: percent parents who are high-school graduates\n",
    "- some.col: percent parents with some college\n",
    "- col.grad: percent parents with college degree\n",
    "- grad.sch: percent parents with postgraduate education\n",
    "- avg.ed: average parental education level\n",
    "- full: percent fully qualified teachers\n",
    "- emer: percent teachers with emergency qualifications\n",
    "- enroll: number of students enrolled\n",
    "- api.stu: number of students tested."
   ]
  },
  {
   "cell_type": "code",
   "execution_count": null,
   "id": "c7fdba4e-b5ec-4ed3-b842-df82fc526452",
   "metadata": {
    "executionInfo": {
     "elapsed": 1021,
     "status": "ok",
     "timestamp": 1632683519643,
     "user": {
      "displayName": "Bruno Bustos",
      "photoUrl": "https://lh3.googleusercontent.com/a-/AOh14Gg9jrlCDES7qCdaljn6Aa-JBsIc672XAuevK49ATA=s64",
      "userId": "02596401273037113814"
     },
     "user_tz": 240
    },
    "id": "c7fdba4e-b5ec-4ed3-b842-df82fc526452"
   },
   "outputs": [],
   "source": [
    "%matplotlib inline"
   ]
  },
  {
   "cell_type": "code",
   "execution_count": null,
   "id": "9eeef461-c9a9-4df5-84ed-20a80da0a7e8",
   "metadata": {
    "executionInfo": {
     "elapsed": 186,
     "status": "ok",
     "timestamp": 1632683519647,
     "user": {
      "displayName": "Bruno Bustos",
      "photoUrl": "https://lh3.googleusercontent.com/a-/AOh14Gg9jrlCDES7qCdaljn6Aa-JBsIc672XAuevK49ATA=s64",
      "userId": "02596401273037113814"
     },
     "user_tz": 240
    },
    "id": "9eeef461-c9a9-4df5-84ed-20a80da0a7e8"
   },
   "outputs": [],
   "source": [
    "import pandas as pd\n",
    "import numpy as np\n",
    "import matplotlib.pyplot as plt\n",
    "import seaborn as sns\n",
    "import datetime \n"
   ]
  },
  {
   "cell_type": "code",
   "execution_count": null,
   "id": "1110ae0d-4618-4bce-b547-c2c02c0af076",
   "metadata": {
    "executionInfo": {
     "elapsed": 186,
     "status": "ok",
     "timestamp": 1632683519652,
     "user": {
      "displayName": "Bruno Bustos",
      "photoUrl": "https://lh3.googleusercontent.com/a-/AOh14Gg9jrlCDES7qCdaljn6Aa-JBsIc672XAuevK49ATA=s64",
      "userId": "02596401273037113814"
     },
     "user_tz": 240
    },
    "id": "1110ae0d-4618-4bce-b547-c2c02c0af076"
   },
   "outputs": [],
   "source": [
    "sns.set()"
   ]
  },
  {
   "cell_type": "code",
   "execution_count": null,
   "id": "d08fe647-3e6c-4b81-a4ba-a0e8520e24e3",
   "metadata": {
    "colab": {
     "base_uri": "https://localhost:8080/",
     "height": 311
    },
    "executionInfo": {
     "elapsed": 425,
     "status": "error",
     "timestamp": 1632683519897,
     "user": {
      "displayName": "Bruno Bustos",
      "photoUrl": "https://lh3.googleusercontent.com/a-/AOh14Gg9jrlCDES7qCdaljn6Aa-JBsIc672XAuevK49ATA=s64",
      "userId": "02596401273037113814"
     },
     "user_tz": 240
    },
    "id": "d08fe647-3e6c-4b81-a4ba-a0e8520e24e3",
    "outputId": "3ce3a810-c8e4-4884-b4cd-3b9d324ad218"
   },
   "outputs": [],
   "source": [
    "df = pd.read_excel(\"apipop.xlsx\")"
   ]
  },
  {
   "cell_type": "code",
   "execution_count": null,
   "id": "36ce756f-ab71-48b1-880b-5ece237928be",
   "metadata": {
    "executionInfo": {
     "elapsed": 164,
     "status": "aborted",
     "timestamp": 1632683519660,
     "user": {
      "displayName": "Bruno Bustos",
      "photoUrl": "https://lh3.googleusercontent.com/a-/AOh14Gg9jrlCDES7qCdaljn6Aa-JBsIc672XAuevK49ATA=s64",
      "userId": "02596401273037113814"
     },
     "user_tz": 240
    },
    "id": "36ce756f-ab71-48b1-880b-5ece237928be"
   },
   "outputs": [],
   "source": [
    "df.columns = [x.replace(\".\",\"_\") for x in df.columns]"
   ]
  },
  {
   "cell_type": "code",
   "execution_count": null,
   "id": "f0c670da-9db5-4217-a1f5-333d2cd20e81",
   "metadata": {
    "executionInfo": {
     "elapsed": 170,
     "status": "aborted",
     "timestamp": 1632683519667,
     "user": {
      "displayName": "Bruno Bustos",
      "photoUrl": "https://lh3.googleusercontent.com/a-/AOh14Gg9jrlCDES7qCdaljn6Aa-JBsIc672XAuevK49ATA=s64",
      "userId": "02596401273037113814"
     },
     "user_tz": 240
    },
    "id": "f0c670da-9db5-4217-a1f5-333d2cd20e81"
   },
   "outputs": [],
   "source": [
    "df.loc[:,\"avg_ed\"] =df.loc[:,\"avg_ed\"].fillna(0)"
   ]
  },
  {
   "cell_type": "code",
   "execution_count": null,
   "id": "b61ae5d0-d862-407d-8891-d5cff51ae448",
   "metadata": {
    "executionInfo": {
     "elapsed": 172,
     "status": "aborted",
     "timestamp": 1632683519670,
     "user": {
      "displayName": "Bruno Bustos",
      "photoUrl": "https://lh3.googleusercontent.com/a-/AOh14Gg9jrlCDES7qCdaljn6Aa-JBsIc672XAuevK49ATA=s64",
      "userId": "02596401273037113814"
     },
     "user_tz": 240
    },
    "id": "b61ae5d0-d862-407d-8891-d5cff51ae448"
   },
   "outputs": [],
   "source": [
    "# Reemplazar valores datetime en columna avg_ed\n",
    "filter_datetimes = lambda x: isinstance(x,datetime.datetime)\n",
    "idx_filter_dtypes = df.loc[:,\"avg_ed\"].apply(filter_datetimes)\n",
    "df.loc[idx_filter_dtypes,\"avg_ed\"]=0\n",
    "df.loc[:,\"avg_ed\"] = df.loc[:,\"avg_ed\"].astype(float)"
   ]
  },
  {
   "cell_type": "code",
   "execution_count": null,
   "id": "f4b50208-b198-4b0d-8c35-8d4451950100",
   "metadata": {
    "executionInfo": {
     "elapsed": 314,
     "status": "aborted",
     "timestamp": 1632683519813,
     "user": {
      "displayName": "Bruno Bustos",
      "photoUrl": "https://lh3.googleusercontent.com/a-/AOh14Gg9jrlCDES7qCdaljn6Aa-JBsIc672XAuevK49ATA=s64",
      "userId": "02596401273037113814"
     },
     "user_tz": 240
    },
    "id": "f4b50208-b198-4b0d-8c35-8d4451950100"
   },
   "outputs": [],
   "source": [
    "# Llenar la columna flag con 0s\n",
    "df.loc[:,\"flag\"]=0"
   ]
  },
  {
   "cell_type": "markdown",
   "id": "3d979c89-a395-40fd-9599-7a6803251014",
   "metadata": {
    "id": "3d979c89-a395-40fd-9599-7a6803251014"
   },
   "source": [
    "## Separación del dataframe según tipos de datos"
   ]
  },
  {
   "cell_type": "markdown",
   "id": "f6074f91-cc68-4b5d-9b04-a5040cdfac0e",
   "metadata": {
    "id": "f6074f91-cc68-4b5d-9b04-a5040cdfac0e"
   },
   "source": [
    "**Ejercicio:**\n",
    "1. Separa el dataframe en 2, un dataframe sólo con datos numéricos y otro sólo con datos categóricos (strings)"
   ]
  },
  {
   "cell_type": "code",
   "execution_count": null,
   "id": "9dfacaa8-1775-491e-9d90-98fb29334817",
   "metadata": {},
   "outputs": [],
   "source": [
    "df.dtypes"
   ]
  },
  {
   "cell_type": "code",
   "execution_count": null,
   "id": "94a657a9-c3cb-4331-969a-d572f158324f",
   "metadata": {
    "executionInfo": {
     "elapsed": 313,
     "status": "aborted",
     "timestamp": 1632683519816,
     "user": {
      "displayName": "Bruno Bustos",
      "photoUrl": "https://lh3.googleusercontent.com/a-/AOh14Gg9jrlCDES7qCdaljn6Aa-JBsIc672XAuevK49ATA=s64",
      "userId": "02596401273037113814"
     },
     "user_tz": 240
    },
    "id": "94a657a9-c3cb-4331-969a-d572f158324f"
   },
   "outputs": [],
   "source": [
    "NUMERICAL_TYPES = [np.float64,\"int64\"]\n",
    "# Escribe tu código acá\n",
    "num_df = df.select_dtypes(\"number\")\n",
    "cat_df = df.select_dtypes(\"object\")\n"
   ]
  },
  {
   "cell_type": "code",
   "execution_count": null,
   "id": "7fc1ebb9-09da-411b-9760-31ad7a7e6416",
   "metadata": {
    "executionInfo": {
     "elapsed": 313,
     "status": "aborted",
     "timestamp": 1632683519819,
     "user": {
      "displayName": "Bruno Bustos",
      "photoUrl": "https://lh3.googleusercontent.com/a-/AOh14Gg9jrlCDES7qCdaljn6Aa-JBsIc672XAuevK49ATA=s64",
      "userId": "02596401273037113814"
     },
     "user_tz": 240
    },
    "id": "7fc1ebb9-09da-411b-9760-31ad7a7e6416"
   },
   "outputs": [],
   "source": [
    "num_df"
   ]
  },
  {
   "cell_type": "code",
   "execution_count": null,
   "id": "56fb7370-311c-4244-9720-7487254c5c45",
   "metadata": {
    "executionInfo": {
     "elapsed": 321,
     "status": "aborted",
     "timestamp": 1632683519829,
     "user": {
      "displayName": "Bruno Bustos",
      "photoUrl": "https://lh3.googleusercontent.com/a-/AOh14Gg9jrlCDES7qCdaljn6Aa-JBsIc672XAuevK49ATA=s64",
      "userId": "02596401273037113814"
     },
     "user_tz": 240
    },
    "id": "56fb7370-311c-4244-9720-7487254c5c45"
   },
   "outputs": [],
   "source": [
    "cat_df"
   ]
  },
  {
   "cell_type": "markdown",
   "id": "25bce416-dad0-4952-bba7-85efb66ba6c4",
   "metadata": {
    "id": "25bce416-dad0-4952-bba7-85efb66ba6c4"
   },
   "source": [
    "## Variables numéricas"
   ]
  },
  {
   "cell_type": "markdown",
   "id": "48b99bef-fde7-4ac8-b495-0506fca817d8",
   "metadata": {
    "id": "48b99bef-fde7-4ac8-b495-0506fca817d8"
   },
   "source": [
    "### Matriz de correlación\n",
    "El coeficiente de correlación nos índica si existe una fuerte relación lineal entre dos variables"
   ]
  },
  {
   "cell_type": "code",
   "execution_count": null,
   "id": "aae262ea-4633-45ae-851e-c515f60d5927",
   "metadata": {
    "executionInfo": {
     "elapsed": 324,
     "status": "aborted",
     "timestamp": 1632683519833,
     "user": {
      "displayName": "Bruno Bustos",
      "photoUrl": "https://lh3.googleusercontent.com/a-/AOh14Gg9jrlCDES7qCdaljn6Aa-JBsIc672XAuevK49ATA=s64",
      "userId": "02596401273037113814"
     },
     "user_tz": 240
    },
    "id": "aae262ea-4633-45ae-851e-c515f60d5927"
   },
   "outputs": [],
   "source": [
    "fig = plt.figure(figsize=(15,15))\n",
    "ax= plt.gca()\n",
    "sns.heatmap(num_df.corr(),ax=ax)\n"
   ]
  },
  {
   "cell_type": "markdown",
   "id": "f4f9ab60-ff4d-40cb-8389-75afd7ffe084",
   "metadata": {
    "id": "f4f9ab60-ff4d-40cb-8389-75afd7ffe084"
   },
   "source": [
    "**Ejercicio:** </br>\n",
    "2. Indica cual es par de variables más correlacionadas y cuál es el par de variables menos correlacionadas </br>\n",
    "*Escribe tu respuesta aquí:* </br>"
   ]
  },
  {
   "cell_type": "markdown",
   "id": "2a9d15fe-b9b3-4374-9247-8e2f8bcb8d47",
   "metadata": {
    "id": "2a9d15fe-b9b3-4374-9247-8e2f8bcb8d47"
   },
   "source": [
    "### Plot de pares"
   ]
  },
  {
   "cell_type": "code",
   "execution_count": null,
   "id": "7ccb8d84-821a-44e7-b58e-c2592ed32b9b",
   "metadata": {
    "executionInfo": {
     "elapsed": 326,
     "status": "aborted",
     "timestamp": 1632683519836,
     "user": {
      "displayName": "Bruno Bustos",
      "photoUrl": "https://lh3.googleusercontent.com/a-/AOh14Gg9jrlCDES7qCdaljn6Aa-JBsIc672XAuevK49ATA=s64",
      "userId": "02596401273037113814"
     },
     "user_tz": 240
    },
    "id": "7ccb8d84-821a-44e7-b58e-c2592ed32b9b"
   },
   "outputs": [],
   "source": [
    "sns.pairplot(pd.concat([num_df.iloc[:,list(range(0,4))],cat_df.loc[:,\"awards\"]],axis=1), hue=\"awards\")"
   ]
  },
  {
   "cell_type": "markdown",
   "id": "a986ab9d-1b7f-4593-8b18-bbb03e800b3c",
   "metadata": {
    "id": "a986ab9d-1b7f-4593-8b18-bbb03e800b3c"
   },
   "source": [
    "**Ejercicio:** </br>\n",
    "3. A simple vista cuáles son las variables que mejor dividen los puntos del dataset según la column 'awards' </br>\n",
    "*Escribe tu respuesta aquí:*"
   ]
  },
  {
   "cell_type": "markdown",
   "id": "38c59d11-416c-4072-8652-f6c44884930e",
   "metadata": {
    "id": "38c59d11-416c-4072-8652-f6c44884930e"
   },
   "source": [
    "### Plotear valuores nulos"
   ]
  },
  {
   "cell_type": "markdown",
   "id": "ba19974f-f288-4451-9037-ad51ed134f87",
   "metadata": {
    "id": "ba19974f-f288-4451-9037-ad51ed134f87"
   },
   "source": [
    "**Ejercicio:** </br>\n",
    "4. Usando el heatmap de seaborn, plotea la ocurrencia de valores nulos en el dataset"
   ]
  },
  {
   "cell_type": "code",
   "execution_count": null,
   "id": "72f6158f-5349-49bd-a9e7-24b7bbdff309",
   "metadata": {
    "executionInfo": {
     "elapsed": 333,
     "status": "aborted",
     "timestamp": 1632683519844,
     "user": {
      "displayName": "Bruno Bustos",
      "photoUrl": "https://lh3.googleusercontent.com/a-/AOh14Gg9jrlCDES7qCdaljn6Aa-JBsIc672XAuevK49ATA=s64",
      "userId": "02596401273037113814"
     },
     "user_tz": 240
    },
    "id": "72f6158f-5349-49bd-a9e7-24b7bbdff309"
   },
   "outputs": [],
   "source": [
    "# Escribe tu código aquí\n"
   ]
  },
  {
   "cell_type": "code",
   "execution_count": null,
   "id": "040e8018-497a-499f-8bf0-1513ff01aef0",
   "metadata": {
    "executionInfo": {
     "elapsed": 335,
     "status": "aborted",
     "timestamp": 1632683519847,
     "user": {
      "displayName": "Bruno Bustos",
      "photoUrl": "https://lh3.googleusercontent.com/a-/AOh14Gg9jrlCDES7qCdaljn6Aa-JBsIc672XAuevK49ATA=s64",
      "userId": "02596401273037113814"
     },
     "user_tz": 240
    },
    "id": "040e8018-497a-499f-8bf0-1513ff01aef0"
   },
   "outputs": [],
   "source": [
    "num_df.acs_core.isnull().sum()"
   ]
  },
  {
   "cell_type": "markdown",
   "id": "6e81050d-a4ef-46c7-aed9-b99e797890f4",
   "metadata": {
    "id": "6e81050d-a4ef-46c7-aed9-b99e797890f4"
   },
   "source": [
    "### Plot de distribuciones"
   ]
  },
  {
   "cell_type": "markdown",
   "id": "a05dcbae-8064-4ce9-8fff-ad04de71881c",
   "metadata": {
    "id": "a05dcbae-8064-4ce9-8fff-ad04de71881c"
   },
   "source": [
    "Con un plot de distribución podemos saber con que frecuencia los datos caen en un determinado rango de valores. También nos permiten evaluar valores atípicos o outliers"
   ]
  },
  {
   "cell_type": "code",
   "execution_count": null,
   "id": "c61bdcaf-e775-4412-8987-65960e5e34c7",
   "metadata": {
    "executionInfo": {
     "elapsed": 338,
     "status": "aborted",
     "timestamp": 1632683519851,
     "user": {
      "displayName": "Bruno Bustos",
      "photoUrl": "https://lh3.googleusercontent.com/a-/AOh14Gg9jrlCDES7qCdaljn6Aa-JBsIc672XAuevK49ATA=s64",
      "userId": "02596401273037113814"
     },
     "user_tz": 240
    },
    "id": "c61bdcaf-e775-4412-8987-65960e5e34c7"
   },
   "outputs": [],
   "source": [
    "fig = plt.figure(figsize=(15,15))\n",
    "ax =plt.gca()\n",
    "num_df.hist(ax=ax,bins=20)"
   ]
  },
  {
   "cell_type": "markdown",
   "id": "0c552aba-ec20-4fda-9e76-ee75217b178b",
   "metadata": {
    "id": "0c552aba-ec20-4fda-9e76-ee75217b178b"
   },
   "source": [
    "**Ejercicio:** </br>\n",
    "5. Cuáles son las variables con más valores atípicos? Cuáles son las variables más sesgadas?</br>\n",
    "*Escrbe tu respuesta aquí:* </br>"
   ]
  },
  {
   "cell_type": "markdown",
   "id": "db4cbc1a-2fe9-4625-8962-64727e8a069b",
   "metadata": {
    "id": "db4cbc1a-2fe9-4625-8962-64727e8a069b"
   },
   "source": [
    "**Ejercicio:** </br>\n",
    "6. Aplica la transformación logarítmica a todas las columnas y describe que ha pasado </br>\n",
    "*Escribe tu respuesta aquí:*</br>"
   ]
  },
  {
   "cell_type": "code",
   "execution_count": null,
   "id": "1b292055-4833-4bc8-a40e-346105d9a5f4",
   "metadata": {
    "executionInfo": {
     "elapsed": 339,
     "status": "aborted",
     "timestamp": 1632683519853,
     "user": {
      "displayName": "Bruno Bustos",
      "photoUrl": "https://lh3.googleusercontent.com/a-/AOh14Gg9jrlCDES7qCdaljn6Aa-JBsIc672XAuevK49ATA=s64",
      "userId": "02596401273037113814"
     },
     "user_tz": 240
    },
    "id": "1b292055-4833-4bc8-a40e-346105d9a5f4"
   },
   "outputs": [],
   "source": [
    "# Escribe tu código aquí\n"
   ]
  },
  {
   "cell_type": "markdown",
   "id": "93f83187-5fa4-42d6-bd7f-c8bdd5f0209c",
   "metadata": {
    "id": "93f83187-5fa4-42d6-bd7f-c8bdd5f0209c"
   },
   "source": [
    "### Remoción de valores atípicos\n",
    "En muchas aplicaciones es importante remover valores atípicos, para esto comúnmente se usa la regla del rango intercuartil. El rango intercuartil o IQR es la diferencia entre el tercer y primer quartil. La regla dice que si un valor es menor al primer cuartil menos 1.5 veces el IQR o mayor al tercer quartil más 1.5 veces el IQR, entonces es muy posible que sea un valor atípico."
   ]
  },
  {
   "cell_type": "markdown",
   "id": "5948c66a-0619-4678-bae1-a73eb12705d9",
   "metadata": {
    "id": "5948c66a-0619-4678-bae1-a73eb12705d9"
   },
   "source": [
    "**Ejercicio:**</br>\n",
    "7. Usando la función quantile calcula el IQR para cada columna y luego remueve los valores atipicos de cada una usando la regla del IQR. Finalmente plotea los histogramas y describe como han cambiado. </br>\n",
    "*Escribe tu respuesta aquí:*"
   ]
  },
  {
   "cell_type": "code",
   "execution_count": null,
   "id": "a544038f-c2bf-48c7-915d-5315835e86af",
   "metadata": {
    "executionInfo": {
     "elapsed": 344,
     "status": "aborted",
     "timestamp": 1632683519859,
     "user": {
      "displayName": "Bruno Bustos",
      "photoUrl": "https://lh3.googleusercontent.com/a-/AOh14Gg9jrlCDES7qCdaljn6Aa-JBsIc672XAuevK49ATA=s64",
      "userId": "02596401273037113814"
     },
     "user_tz": 240
    },
    "id": "a544038f-c2bf-48c7-915d-5315835e86af"
   },
   "outputs": [],
   "source": [
    "# Escribe tu código aquí\n"
   ]
  },
  {
   "cell_type": "markdown",
   "id": "a77d6c48-0593-4eaf-9a92-d11373108473",
   "metadata": {
    "id": "a77d6c48-0593-4eaf-9a92-d11373108473"
   },
   "source": [
    "### Boxplots"
   ]
  },
  {
   "cell_type": "code",
   "execution_count": null,
   "id": "ad8f688f-3f1b-4bb5-9657-54be3225ffa8",
   "metadata": {
    "executionInfo": {
     "elapsed": 342,
     "status": "aborted",
     "timestamp": 1632683519860,
     "user": {
      "displayName": "Bruno Bustos",
      "photoUrl": "https://lh3.googleusercontent.com/a-/AOh14Gg9jrlCDES7qCdaljn6Aa-JBsIc672XAuevK49ATA=s64",
      "userId": "02596401273037113814"
     },
     "user_tz": 240
    },
    "id": "ad8f688f-3f1b-4bb5-9657-54be3225ffa8"
   },
   "outputs": [],
   "source": [
    "from sklearn.preprocessing import scale\n",
    "fig = plt.figure(figsize=(15,15))\n",
    "ax =plt.gca()\n",
    "pd.DataFrame(scale(num_df),columns=num_df.columns).boxplot(ax=ax)"
   ]
  },
  {
   "cell_type": "markdown",
   "id": "88c93749-c005-4eb5-b7bc-21e8249f8eac",
   "metadata": {
    "id": "88c93749-c005-4eb5-b7bc-21e8249f8eac"
   },
   "source": [
    "**Ejecicio:** </br>\n",
    "7.5 Haz boxplots de la variable target agrupada por condado (cname) para los condados de Los Angeles, San Diego y Alameda .Tendrás que concantenar num_df con la columna cat_df[\"cname\"] usando la función pd.concat(...,axis=1)"
   ]
  },
  {
   "cell_type": "code",
   "execution_count": null,
   "id": "fbf65b17-b149-4136-a959-9f7c2baee14c",
   "metadata": {
    "executionInfo": {
     "elapsed": 336,
     "status": "aborted",
     "timestamp": 1632683519862,
     "user": {
      "displayName": "Bruno Bustos",
      "photoUrl": "https://lh3.googleusercontent.com/a-/AOh14Gg9jrlCDES7qCdaljn6Aa-JBsIc672XAuevK49ATA=s64",
      "userId": "02596401273037113814"
     },
     "user_tz": 240
    },
    "id": "fbf65b17-b149-4136-a959-9f7c2baee14c"
   },
   "outputs": [],
   "source": [
    "# Escribe tu código aquí\n"
   ]
  },
  {
   "cell_type": "markdown",
   "id": "b4d61c1b-ab9c-4933-ae76-58be2de860eb",
   "metadata": {
    "id": "b4d61c1b-ab9c-4933-ae76-58be2de860eb"
   },
   "source": [
    "## Variables categóricas"
   ]
  },
  {
   "cell_type": "markdown",
   "id": "f35999ac-bab0-4268-9c1c-a89a22dc08e5",
   "metadata": {
    "id": "f35999ac-bab0-4268-9c1c-a89a22dc08e5"
   },
   "source": [
    "### Prevalencia en el dataset"
   ]
  },
  {
   "cell_type": "code",
   "execution_count": null,
   "id": "cf51465e-46bb-482d-9563-ee08cefd6678",
   "metadata": {
    "executionInfo": {
     "elapsed": 335,
     "status": "aborted",
     "timestamp": 1632683519867,
     "user": {
      "displayName": "Bruno Bustos",
      "photoUrl": "https://lh3.googleusercontent.com/a-/AOh14Gg9jrlCDES7qCdaljn6Aa-JBsIc672XAuevK49ATA=s64",
      "userId": "02596401273037113814"
     },
     "user_tz": 240
    },
    "id": "cf51465e-46bb-482d-9563-ee08cefd6678"
   },
   "outputs": [],
   "source": [
    "cat_df.columns"
   ]
  },
  {
   "cell_type": "code",
   "execution_count": null,
   "id": "7e2c5096-1efe-457e-89e4-8c073f97ef0c",
   "metadata": {
    "executionInfo": {
     "elapsed": 335,
     "status": "aborted",
     "timestamp": 1632683519870,
     "user": {
      "displayName": "Bruno Bustos",
      "photoUrl": "https://lh3.googleusercontent.com/a-/AOh14Gg9jrlCDES7qCdaljn6Aa-JBsIc672XAuevK49ATA=s64",
      "userId": "02596401273037113814"
     },
     "user_tz": 240
    },
    "id": "7e2c5096-1efe-457e-89e4-8c073f97ef0c"
   },
   "outputs": [],
   "source": [
    "fig = plt.figure(figsize=(15,15))\n",
    "ax =plt.gca()\n",
    "cat_df.loc[:,\"stype\"].value_counts().plot.pie(subplots=True,legend=True,ax=ax)"
   ]
  },
  {
   "cell_type": "markdown",
   "id": "b622b3c2-5390-4a31-a0bb-f64f3e973b2d",
   "metadata": {
    "id": "b622b3c2-5390-4a31-a0bb-f64f3e973b2d"
   },
   "source": [
    "**Ejercicio:** </br>\n",
    "8. Cree pie plots para la variable cname"
   ]
  },
  {
   "cell_type": "code",
   "execution_count": null,
   "id": "5ae4d5c0-18e5-4183-82fb-6e6fd6026c8f",
   "metadata": {
    "executionInfo": {
     "elapsed": 337,
     "status": "aborted",
     "timestamp": 1632683519874,
     "user": {
      "displayName": "Bruno Bustos",
      "photoUrl": "https://lh3.googleusercontent.com/a-/AOh14Gg9jrlCDES7qCdaljn6Aa-JBsIc672XAuevK49ATA=s64",
      "userId": "02596401273037113814"
     },
     "user_tz": 240
    },
    "id": "5ae4d5c0-18e5-4183-82fb-6e6fd6026c8f"
   },
   "outputs": [],
   "source": [
    "# Escribe tu código aquí\n"
   ]
  },
  {
   "cell_type": "markdown",
   "id": "a027c579-ce0f-4141-842d-b5d02698b8a7",
   "metadata": {
    "id": "a027c579-ce0f-4141-842d-b5d02698b8a7"
   },
   "source": [
    "### Plot de barras agrupadas"
   ]
  },
  {
   "cell_type": "code",
   "execution_count": null,
   "id": "f1fc9f50-7681-461c-9ad5-46c1a6aeec69",
   "metadata": {
    "executionInfo": {
     "elapsed": 335,
     "status": "aborted",
     "timestamp": 1632683519876,
     "user": {
      "displayName": "Bruno Bustos",
      "photoUrl": "https://lh3.googleusercontent.com/a-/AOh14Gg9jrlCDES7qCdaljn6Aa-JBsIc672XAuevK49ATA=s64",
      "userId": "02596401273037113814"
     },
     "user_tz": 240
    },
    "id": "f1fc9f50-7681-461c-9ad5-46c1a6aeec69"
   },
   "outputs": [],
   "source": [
    "fig = plt.figure(figsize=(30,30))\n",
    "ax =plt.gca()\n",
    "cat_df.groupby([\"cname\"]).stype.value_counts().unstack().plot.barh(ax=ax)"
   ]
  },
  {
   "cell_type": "markdown",
   "id": "eb005276-b4d1-419d-8eb0-69a2a37e343e",
   "metadata": {
    "id": "eb005276-b4d1-419d-8eb0-69a2a37e343e"
   },
   "source": [
    "**Ejercicio:** </br>\n",
    "9. Crea un plot de barras agrupadas para la variable awards agrupada por cname. El gráfico debe mostrar el número de escuelas aceptadas y no aceptadas para awards de cada condado </br>"
   ]
  },
  {
   "cell_type": "code",
   "execution_count": null,
   "id": "4135b072-be0f-4bde-85bb-3097883ef3b0",
   "metadata": {
    "executionInfo": {
     "elapsed": 335,
     "status": "aborted",
     "timestamp": 1632683519878,
     "user": {
      "displayName": "Bruno Bustos",
      "photoUrl": "https://lh3.googleusercontent.com/a-/AOh14Gg9jrlCDES7qCdaljn6Aa-JBsIc672XAuevK49ATA=s64",
      "userId": "02596401273037113814"
     },
     "user_tz": 240
    },
    "id": "4135b072-be0f-4bde-85bb-3097883ef3b0"
   },
   "outputs": [],
   "source": [
    "#Escribe tu código aquí\n"
   ]
  },
  {
   "cell_type": "markdown",
   "id": "1de8eecb-c128-4879-b3a1-035dd66fc63f",
   "metadata": {
    "id": "1de8eecb-c128-4879-b3a1-035dd66fc63f"
   },
   "source": [
    "## Plot de pies agrupados"
   ]
  },
  {
   "cell_type": "code",
   "execution_count": null,
   "id": "b793b1df-7013-4068-a623-f78091ba3120",
   "metadata": {
    "executionInfo": {
     "elapsed": 337,
     "status": "aborted",
     "timestamp": 1632683519881,
     "user": {
      "displayName": "Bruno Bustos",
      "photoUrl": "https://lh3.googleusercontent.com/a-/AOh14Gg9jrlCDES7qCdaljn6Aa-JBsIc672XAuevK49ATA=s64",
      "userId": "02596401273037113814"
     },
     "user_tz": 240
    },
    "id": "b793b1df-7013-4068-a623-f78091ba3120"
   },
   "outputs": [],
   "source": [
    "fig = plt.figure(figsize=(30,30))\n",
    "ax =plt.gca()\n",
    "cat_df.loc[cat_df[\"cname\"].isin([\"Yolo\",\"Colusa\",\"Alameda\"])].groupby([\"cname\"]).stype.value_counts().unstack(0).plot.pie(subplots=True,ax=ax)"
   ]
  },
  {
   "cell_type": "code",
   "execution_count": null,
   "id": "bd82e51a-a158-4998-9009-1be23173d942",
   "metadata": {
    "executionInfo": {
     "elapsed": 99,
     "status": "aborted",
     "timestamp": 1632683519894,
     "user": {
      "displayName": "Bruno Bustos",
      "photoUrl": "https://lh3.googleusercontent.com/a-/AOh14Gg9jrlCDES7qCdaljn6Aa-JBsIc672XAuevK49ATA=s64",
      "userId": "02596401273037113814"
     },
     "user_tz": 240
    },
    "id": "bd82e51a-a158-4998-9009-1be23173d942"
   },
   "outputs": [],
   "source": []
  }
 ],
 "metadata": {
  "colab": {
   "name": "visualizacion_y_analisis_exploratorio.ipynb",
   "provenance": []
  },
  "kernelspec": {
   "display_name": "Python 3 (ipykernel)",
   "language": "python",
   "name": "python3"
  },
  "language_info": {
   "codemirror_mode": {
    "name": "ipython",
    "version": 3
   },
   "file_extension": ".py",
   "mimetype": "text/x-python",
   "name": "python",
   "nbconvert_exporter": "python",
   "pygments_lexer": "ipython3",
   "version": "3.9.12"
  }
 },
 "nbformat": 4,
 "nbformat_minor": 5
}
