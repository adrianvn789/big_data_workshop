{
 "cells": [
  {
   "cell_type": "markdown",
   "metadata": {
    "id": "Tz-eXr_w6ySW"
   },
   "source": [
    "# Procesamiento básico con pandas"
   ]
  },
  {
   "cell_type": "markdown",
   "metadata": {
    "id": "GUUX4DU-ZKtu"
   },
   "source": [
    "## Pandas\n",
    "Es una herramienta construida sobre Ptyhon para realizar análisis y manipulación de datos de manera sencilla, flexible, rápida y efectiva.\n",
    "\n",
    "Pandas se basa en 3 clases principales:\n",
    "pandas.DataFrame (dataframe)\n",
    "pandas.Series (serie)\n",
    "pandas.Index (índice)\n",
    "\n",
    "El dataframe es la clase que contiene a los otras dos:\n",
    "![alt text](https://media.geeksforgeeks.org/wp-content/cdn-uploads/creating_dataframe1.png) </br>\n",
    "\n",
    "**Cada columna como tal es una serie, así como cada fila.** </br>\n",
    "**Los nombres de las columnas, así como los labels de las filas, son índices.**\n",
    "\n"
   ]
  },
  {
   "cell_type": "markdown",
   "metadata": {
    "id": "sBpAKiuW6ySY"
   },
   "source": [
    "## Dataset\n",
    "Para revisar este tema, utilizaremos el dfset del Indice de Desempeño Académico (API) de todas las escuelas de California, basado en el test estandarizado de estudiantes. Este dfset contiene información de todas las escuelas con al menos 100 estudiantes. El formato es el siguiente.\n",
    "\n",
    "Format </br>\n",
    "The full population df in apipop are a df frame with 6194 observations on the following 37 variables.\n",
    "- cds: Unique identifier\n",
    "- stype: Elementary/Middle/High School\n",
    "- name: School name (15 characters)\n",
    "- sname: School name (40 characters)\n",
    "- snum: School number\n",
    "- dname: District name\n",
    "- dnum: District number\n",
    "- cname: County name\n",
    "- cnum: County number\n",
    "- flag: reason for missing df\n",
    "- pcttest: percentage of students tested\n",
    "- api00: API in 2000\n",
    "- api99: API in 1999\n",
    "- target: target for change in API\n",
    "- growth: Change in API\n",
    "- sch.wide: Met school-wide growth target?\n",
    "- comp.imp: Met Comparable Improvement target\n",
    "- both: Met both targets\n",
    "- awards: Eligible for awards program\n",
    "- meals: Percentage of students eligible for subsidized meals\n",
    "- ell: `English Language Learners' (percent)\n",
    "- yr.rnd: Year-round school\n",
    "- mobility: percentage of students for whom this is the first year at the school\n",
    "- acs.k3: average class size years K-3\n",
    "- acs.46: average class size years 4-6\n",
    "- acs.core: Number of core academic courses\n",
    "- pct.resp: percent where parental education level is known\n",
    "- not.hsg: percent parents not high-school graduates\n",
    "- hsg: percent parents who are high-school graduates\n",
    "- some.col: percent parents with some college\n",
    "- col.grad: percent parents with college degree\n",
    "- grad.sch: percent parents with postgraduate education\n",
    "- avg.ed: average parental education level\n",
    "- full: percent fully qualified teachers\n",
    "- emer: percent teachers with emergency qualifications\n",
    "- enroll: number of students enrolled\n",
    "- api.stu: number of students tested."
   ]
  },
  {
   "cell_type": "markdown",
   "metadata": {
    "id": "XrzH3GcrZKt4"
   },
   "source": [
    "## Importación de la biblioteca\n",
    "Importamos pandas. Además importamos numpy para tener operaciones aritméticas disponibles"
   ]
  },
  {
   "cell_type": "code",
   "execution_count": null,
   "metadata": {
    "executionInfo": {
     "elapsed": 501,
     "status": "ok",
     "timestamp": 1625321798878,
     "user": {
      "displayName": "Rodrigo Rubén Berríos Mariño",
      "photoUrl": "https://lh3.googleusercontent.com/a-/AOh14GiOolfOe7RDhLzyy4FK02S5vipbwYitSWrRu3TZ_IM=s64",
      "userId": "12758603544426008489"
     },
     "user_tz": 240
    },
    "id": "i1eABQBv6ySa"
   },
   "outputs": [],
   "source": [
    "import pandas as pd\n",
    "import numpy as np"
   ]
  },
  {
   "cell_type": "markdown",
   "metadata": {
    "id": "GwR-zR-J6ySd"
   },
   "source": [
    "## Importación del dataset"
   ]
  },
  {
   "cell_type": "markdown",
   "metadata": {
    "id": "z7kKet8yZKuJ"
   },
   "source": [
    "**Ejercicios:**</br>\n",
    "1. Leyendo la documentación https://pandas.pydata.org/docs/reference/api/pandas.read_excel.html?highlight=read_excel#pandas.read_excel, leer el archivo apipop.xlsx como dataframe"
   ]
  },
  {
   "cell_type": "code",
   "execution_count": null,
   "metadata": {
    "colab": {
     "base_uri": "https://localhost:8080/",
     "height": 380
    },
    "executionInfo": {
     "elapsed": 825,
     "status": "error",
     "timestamp": 1625322218789,
     "user": {
      "displayName": "Rodrigo Rubén Berríos Mariño",
      "photoUrl": "https://lh3.googleusercontent.com/a-/AOh14GiOolfOe7RDhLzyy4FK02S5vipbwYitSWrRu3TZ_IM=s64",
      "userId": "12758603544426008489"
     },
     "user_tz": 240
    },
    "id": "TI1xHaH26ySf",
    "outputId": "2009f89b-bcc5-4369-b85e-5da09e124b72"
   },
   "outputs": [],
   "source": [
    "df = pd.read_excel('apipop.xlsx')\n",
    "df"
   ]
  },
  {
   "cell_type": "markdown",
   "metadata": {
    "id": "ePMT2WTYZKuQ"
   },
   "source": [
    "## Exploración del dataset\n",
    "Notando que el dataframe es un objeto, como tal posee atributos, uno de ellos llamado columns nos permite ver los nombres de las columnas"
   ]
  },
  {
   "cell_type": "code",
   "execution_count": null,
   "metadata": {
    "colab": {
     "base_uri": "https://localhost:8080/",
     "height": 172
    },
    "executionInfo": {
     "elapsed": 28,
     "status": "error",
     "timestamp": 1625320603806,
     "user": {
      "displayName": "Rodrigo Rubén Berríos Mariño",
      "photoUrl": "https://lh3.googleusercontent.com/a-/AOh14GiOolfOe7RDhLzyy4FK02S5vipbwYitSWrRu3TZ_IM=s64",
      "userId": "12758603544426008489"
     },
     "user_tz": 240
    },
    "id": "FHELFHFz6ySh",
    "outputId": "6e35126e-ab6c-4fea-9ffb-74d1ba9f9e98"
   },
   "outputs": [],
   "source": [
    "df.columns"
   ]
  },
  {
   "cell_type": "markdown",
   "metadata": {
    "id": "uImAo--eZKua"
   },
   "source": [
    "**Ejercicios:**</br>\n",
    "2.Dado que los índices son iterables, reemplaze los \".\" de los nombres de las columnas por \"_\". Notar que al asignar una lista al atributo columns, podemos cambiar sus valores. Imprima los nombres de las columnas luego del cambio. **Nota:** el resultado de la última línea de código de cualquier celda siempre se imprime por defecto."
   ]
  },
  {
   "cell_type": "code",
   "execution_count": null,
   "metadata": {
    "colab": {
     "base_uri": "https://localhost:8080/",
     "height": 227
    },
    "executionInfo": {
     "elapsed": 521,
     "status": "error",
     "timestamp": 1625320595693,
     "user": {
      "displayName": "Rodrigo Rubén Berríos Mariño",
      "photoUrl": "https://lh3.googleusercontent.com/a-/AOh14GiOolfOe7RDhLzyy4FK02S5vipbwYitSWrRu3TZ_IM=s64",
      "userId": "12758603544426008489"
     },
     "user_tz": 240
    },
    "id": "pVjNTtbAZKuc",
    "outputId": "09f78e34-be15-4514-f84d-922c46942025"
   },
   "outputs": [],
   "source": [
    "def sinPunto(string):\n",
    "    return string.replace(\".\",\"_\")\n",
    "df.rename(columns=sinPunto,inplace=True)\n",
    "df.head()"
   ]
  },
  {
   "cell_type": "markdown",
   "metadata": {
    "id": "zRfV8GW8ZKue"
   },
   "source": [
    "- También podemos ver los índices de las filas"
   ]
  },
  {
   "cell_type": "code",
   "execution_count": null,
   "metadata": {
    "colab": {
     "base_uri": "https://localhost:8080/",
     "height": 172
    },
    "executionInfo": {
     "elapsed": 510,
     "status": "error",
     "timestamp": 1625320680778,
     "user": {
      "displayName": "Rodrigo Rubén Berríos Mariño",
      "photoUrl": "https://lh3.googleusercontent.com/a-/AOh14GiOolfOe7RDhLzyy4FK02S5vipbwYitSWrRu3TZ_IM=s64",
      "userId": "12758603544426008489"
     },
     "user_tz": 240
    },
    "id": "c7tkwzXj6ySl",
    "outputId": "130bb0dc-facc-43b9-8111-7020951cb133"
   },
   "outputs": [],
   "source": [
    "df.index"
   ]
  },
  {
   "cell_type": "markdown",
   "metadata": {
    "id": "fCEZJTvYZKui"
   },
   "source": [
    "- Las dimensiones del dataframe"
   ]
  },
  {
   "cell_type": "code",
   "execution_count": null,
   "metadata": {
    "colab": {
     "base_uri": "https://localhost:8080/",
     "height": 172
    },
    "executionInfo": {
     "elapsed": 531,
     "status": "error",
     "timestamp": 1625320668949,
     "user": {
      "displayName": "Rodrigo Rubén Berríos Mariño",
      "photoUrl": "https://lh3.googleusercontent.com/a-/AOh14GiOolfOe7RDhLzyy4FK02S5vipbwYitSWrRu3TZ_IM=s64",
      "userId": "12758603544426008489"
     },
     "user_tz": 240
    },
    "id": "5OWVCcutZKuj",
    "outputId": "5bbb2d93-51d6-45b3-b147-96643772cdb6"
   },
   "outputs": [],
   "source": [
    "df.shape"
   ]
  },
  {
   "cell_type": "markdown",
   "metadata": {
    "id": "Zx5IoGVMZKuk"
   },
   "source": [
    "- Los tipos de variables de las columnas"
   ]
  },
  {
   "cell_type": "code",
   "execution_count": null,
   "metadata": {
    "colab": {
     "base_uri": "https://localhost:8080/"
    },
    "executionInfo": {
     "elapsed": 418,
     "status": "ok",
     "timestamp": 1625318209471,
     "user": {
      "displayName": "Alejandro Thompson",
      "photoUrl": "https://lh3.googleusercontent.com/a-/AOh14GiYTwJmDJ797k8GgN6VywSlOAF7XU3da1K1vgVU=s64",
      "userId": "03460206492732359333"
     },
     "user_tz": 240
    },
    "id": "5OxX60VP6ySo",
    "outputId": "c226758f-c489-48c5-93c5-f66dbce8249c"
   },
   "outputs": [],
   "source": [
    "df.dtypes"
   ]
  },
  {
   "cell_type": "markdown",
   "metadata": {
    "id": "ucc6_LwJZKun"
   },
   "source": [
    "- Explorar cierto número de observaciones al inicio"
   ]
  },
  {
   "cell_type": "code",
   "execution_count": null,
   "metadata": {
    "id": "dlDpDvhB6ySu"
   },
   "outputs": [],
   "source": [
    "df.head(10)"
   ]
  },
  {
   "cell_type": "markdown",
   "metadata": {
    "id": "IFm4AnSnZKup"
   },
   "source": [
    "- Explorar cierto número de observaciones al final"
   ]
  },
  {
   "cell_type": "code",
   "execution_count": null,
   "metadata": {
    "colab": {
     "base_uri": "https://localhost:8080/",
     "height": 341
    },
    "executionInfo": {
     "elapsed": 807,
     "status": "ok",
     "timestamp": 1625318317021,
     "user": {
      "displayName": "Alejandro Thompson",
      "photoUrl": "https://lh3.googleusercontent.com/a-/AOh14GiYTwJmDJ797k8GgN6VywSlOAF7XU3da1K1vgVU=s64",
      "userId": "03460206492732359333"
     },
     "user_tz": 240
    },
    "id": "LnD_jo2Q6ySx",
    "outputId": "4aa6a5d5-9757-49e0-fb02-4dc9f0836714"
   },
   "outputs": [],
   "source": [
    "df.tail(5)"
   ]
  },
  {
   "cell_type": "markdown",
   "metadata": {
    "id": "tWt-arXZZKuq"
   },
   "source": [
    "- Describir variables cuantitativas"
   ]
  },
  {
   "cell_type": "code",
   "execution_count": null,
   "metadata": {
    "colab": {
     "base_uri": "https://localhost:8080/",
     "height": 315
    },
    "executionInfo": {
     "elapsed": 427,
     "status": "ok",
     "timestamp": 1625318322885,
     "user": {
      "displayName": "Alejandro Thompson",
      "photoUrl": "https://lh3.googleusercontent.com/a-/AOh14GiYTwJmDJ797k8GgN6VywSlOAF7XU3da1K1vgVU=s64",
      "userId": "03460206492732359333"
     },
     "user_tz": 240
    },
    "id": "7NK7TJimZKur",
    "outputId": "a5b9799b-abd5-49ab-968b-56f3c866ee53"
   },
   "outputs": [],
   "source": [
    "df.describe()"
   ]
  },
  {
   "cell_type": "markdown",
   "metadata": {
    "id": "xDsVOJOXZKur"
   },
   "source": [
    "- Contar valores perdidos por columna"
   ]
  },
  {
   "cell_type": "code",
   "execution_count": null,
   "metadata": {
    "colab": {
     "base_uri": "https://localhost:8080/",
     "height": 162
    },
    "executionInfo": {
     "elapsed": 11,
     "status": "error",
     "timestamp": 1625319208019,
     "user": {
      "displayName": "Camila Fiorela Cruz Coritza",
      "photoUrl": "https://lh3.googleusercontent.com/a-/AOh14GiTgeto7CfkhikD7TRFz_K42SiadLlGC_v_6_acfIk=s64",
      "userId": "07020485762784688358"
     },
     "user_tz": 240
    },
    "id": "OVrH-Igv6yS0",
    "outputId": "e861c3d8-ecdc-437c-9d23-aad16521ebb6"
   },
   "outputs": [],
   "source": [
    "df.isnull().sum()"
   ]
  },
  {
   "cell_type": "markdown",
   "metadata": {
    "id": "V4PgdRPdZKus"
   },
   "source": [
    "- Seleccionar por índice"
   ]
  },
  {
   "cell_type": "code",
   "execution_count": null,
   "metadata": {
    "colab": {
     "base_uri": "https://localhost:8080/",
     "height": 162
    },
    "executionInfo": {
     "elapsed": 255,
     "status": "error",
     "timestamp": 1625319214844,
     "user": {
      "displayName": "Camila Fiorela Cruz Coritza",
      "photoUrl": "https://lh3.googleusercontent.com/a-/AOh14GiTgeto7CfkhikD7TRFz_K42SiadLlGC_v_6_acfIk=s64",
      "userId": "07020485762784688358"
     },
     "user_tz": 240
    },
    "id": "1DDPBvN26yS3",
    "outputId": "34be434b-61d7-44cd-9f9a-41fa7cab6d2e"
   },
   "outputs": [],
   "source": [
    "df.loc[:,[\"name\",\"enroll\",\"api00\"]]"
   ]
  },
  {
   "cell_type": "markdown",
   "metadata": {
    "id": "X37Q49NQZKuu"
   },
   "source": [
    "- Selección por índice posicional"
   ]
  },
  {
   "cell_type": "code",
   "execution_count": null,
   "metadata": {
    "id": "tsbGrDdt6yS6"
   },
   "outputs": [],
   "source": [
    "df.iloc[:,[2,35,11]].head(5)"
   ]
  },
  {
   "cell_type": "code",
   "execution_count": null,
   "metadata": {
    "id": "BbzUXETK6yS9"
   },
   "outputs": [],
   "source": [
    "# Ordenar datos por los valores de alguna columna\n",
    "sub_df = df.loc[:,[\"name\", \"enroll\", \"api00\"]]\n",
    "sub_df.sort_values(by=\"api00\", ascending=False).head(5)"
   ]
  },
  {
   "cell_type": "markdown",
   "metadata": {
    "id": "uiw-eglFZKuv"
   },
   "source": [
    "- Cálculo de estadísticas descriptivas"
   ]
  },
  {
   "cell_type": "code",
   "execution_count": null,
   "metadata": {
    "colab": {
     "base_uri": "https://localhost:8080/",
     "height": 172
    },
    "executionInfo": {
     "elapsed": 510,
     "status": "error",
     "timestamp": 1625321780989,
     "user": {
      "displayName": "Rodrigo Rubén Berríos Mariño",
      "photoUrl": "https://lh3.googleusercontent.com/a-/AOh14GiOolfOe7RDhLzyy4FK02S5vipbwYitSWrRu3TZ_IM=s64",
      "userId": "12758603544426008489"
     },
     "user_tz": 240
    },
    "id": "CHC36K7a6yTD",
    "outputId": "763d5372-0f8d-429d-de4f-ad39b1a167e6"
   },
   "outputs": [],
   "source": [
    "df[\"enroll\"].mean()"
   ]
  },
  {
   "cell_type": "code",
   "execution_count": null,
   "metadata": {
    "id": "LEIhAdVd6yTK"
   },
   "outputs": [],
   "source": [
    "df[\"enroll\"].median()"
   ]
  },
  {
   "cell_type": "markdown",
   "metadata": {
    "id": "-e4mBCvnZKuy"
   },
   "source": [
    "- Para datos categóricos, visualizar categorías únicas"
   ]
  },
  {
   "cell_type": "code",
   "execution_count": null,
   "metadata": {
    "id": "s05YzK9y6yTN"
   },
   "outputs": [],
   "source": [
    "df[\"dname\"].unique()"
   ]
  },
  {
   "cell_type": "markdown",
   "metadata": {
    "id": "CVChTchZZKu0"
   },
   "source": [
    "- Contar las observaciones de cada categoría"
   ]
  },
  {
   "cell_type": "code",
   "execution_count": null,
   "metadata": {
    "id": "9EVEE1Kv6yTQ"
   },
   "outputs": [],
   "source": [
    "df[\"dname\"].value_counts()"
   ]
  },
  {
   "cell_type": "markdown",
   "metadata": {
    "id": "Y6c2ddmsZKu3"
   },
   "source": [
    "- Filtrar datos por condiciones lógicas\n"
   ]
  },
  {
   "cell_type": "code",
   "execution_count": null,
   "metadata": {
    "id": "EnLUDi9uZKu4"
   },
   "outputs": [],
   "source": [
    "df[df.api00 >= 950]"
   ]
  },
  {
   "cell_type": "code",
   "execution_count": null,
   "metadata": {
    "id": "QAT2W9sFZKu4"
   },
   "outputs": [],
   "source": [
    "df[(df[\"dname\"].isin([\"Alameda City Unified\", \"Woodland Joint Unified\"]))\n",
    "               & (df[\"api00\"] > 200)]"
   ]
  },
  {
   "cell_type": "markdown",
   "metadata": {
    "id": "VUAxd3Px6yTT"
   },
   "source": [
    "## Manipulación del dataset"
   ]
  },
  {
   "cell_type": "markdown",
   "metadata": {
    "id": "ZsoGesupZKu5"
   },
   "source": [
    "Lo primero que debemos comprobar en el dataset es que no hay records duplicados.\n",
    "- Removemos records duplicados usando el método .drop_duplicates()"
   ]
  },
  {
   "cell_type": "code",
   "execution_count": null,
   "metadata": {
    "id": "9py8PoAaZKu6"
   },
   "outputs": [],
   "source": [
    "unq_df = df.drop_duplicates() \n",
    "unq_df.shape"
   ]
  },
  {
   "cell_type": "markdown",
   "metadata": {
    "id": "yBzmj176ZKu6"
   },
   "source": [
    "**Ejercicio:**\n",
    "3. Cómo podrías comprobar que el dataframe original tenía o no records duplicados. (Pista: fijate en el numero de filas con el método shape)"
   ]
  },
  {
   "cell_type": "code",
   "execution_count": null,
   "metadata": {
    "id": "G7l1GLbhZKu7"
   },
   "outputs": [],
   "source": [
    "# Escribe tu código aquí\n"
   ]
  },
  {
   "cell_type": "markdown",
   "metadata": {
    "id": "cW_qdNOwZKu7"
   },
   "source": [
    "- Normalmente, si las columnas son cruciales y tienen valores nulos, removemos esos records (ignoramos flags porque esta casi lleno de valores nulos)"
   ]
  },
  {
   "cell_type": "code",
   "execution_count": null,
   "metadata": {
    "id": "BH8dwkbVZKu8"
   },
   "outputs": [],
   "source": [
    "unq_df_clean = unq_df.dropna(subset=unq_df.columns.difference(pd.Index([\"flag\"])),how=\"any\")\n",
    "unq_df_clean.head(10)"
   ]
  },
  {
   "cell_type": "markdown",
   "metadata": {
    "id": "uvf9UdsRZKu8"
   },
   "source": [
    "- Por otro lado ponemos reemplazar los valores nulos por un valor (necesitamos hacer esto para no perder datos y que nuestros modelos funcionen). En este caso reemplazaremos los valores nulos de la columna flag por -1"
   ]
  },
  {
   "cell_type": "code",
   "execution_count": null,
   "metadata": {
    "id": "BglaG8LZZKu9"
   },
   "outputs": [],
   "source": [
    "unq_df.loc[:,\"flag\"] = unq_df.loc[:,\"flag\"].fillna(0)\n",
    "unq_df"
   ]
  },
  {
   "cell_type": "markdown",
   "metadata": {
    "id": "blgEl78IZKu9"
   },
   "source": [
    "**Ejercicios:** </br>\n",
    "4. Sin embargo, para no arruinar las propiedades estadísticas para nuestro dataset hay estrategias de reemplazo de valores nulos por valores como la media y la mediana. \n",
    "Reemplaza los valores nulos de acs_core por la media"
   ]
  },
  {
   "cell_type": "code",
   "execution_count": null,
   "metadata": {
    "id": "rC-ocNOYZKu-"
   },
   "outputs": [],
   "source": [
    "#Escribe tu código aquí\n"
   ]
  },
  {
   "cell_type": "code",
   "execution_count": null,
   "metadata": {},
   "outputs": [],
   "source": [
    "unq_df.columns"
   ]
  },
  {
   "cell_type": "code",
   "execution_count": null,
   "metadata": {
    "id": "frhvvKJSZKu_"
   },
   "outputs": [],
   "source": [
    "unq_df.loc[:,\"acs_core\"].isnull().sum()"
   ]
  },
  {
   "cell_type": "markdown",
   "metadata": {
    "id": "J8cQcRNfZKvA"
   },
   "source": [
    "- Crear categorías según rangos de valores"
   ]
  },
  {
   "cell_type": "code",
   "execution_count": null,
   "metadata": {
    "id": "Nfs_nuGS6yTT"
   },
   "outputs": [],
   "source": [
    "api_ranges = pd.cut(df[\"api00\"], 10)\n",
    "api_ranges"
   ]
  },
  {
   "cell_type": "markdown",
   "metadata": {
    "id": "jaYyjLQVZKvB"
   },
   "source": [
    "- Conteo de las categorías por rangos de valores"
   ]
  },
  {
   "cell_type": "code",
   "execution_count": null,
   "metadata": {
    "id": "zqyQ_QGn6yTY"
   },
   "outputs": [],
   "source": [
    "api_ranges.value_counts()"
   ]
  },
  {
   "cell_type": "markdown",
   "metadata": {
    "id": "asNb0QZvZKvD"
   },
   "source": [
    "- Tabla cruzada para ver los conteos de observaciones a través de dos variables"
   ]
  },
  {
   "cell_type": "code",
   "execution_count": null,
   "metadata": {
    "id": "u8BV0j2b6yTa"
   },
   "outputs": [],
   "source": [
    "pd.crosstab(df[\"dname\"],df[\"stype\"])"
   ]
  },
  {
   "cell_type": "markdown",
   "metadata": {
    "id": "WpmACvFVZKvF"
   },
   "source": [
    "- Pivot de tabla"
   ]
  },
  {
   "cell_type": "code",
   "execution_count": null,
   "metadata": {
    "id": "PUlpni4DZKvH"
   },
   "outputs": [],
   "source": [
    "test_df = pd.DataFrame({\"a\":[\"a\",\"b\",\"a\",\"b\",\"a\",\"b\"],\"b\":[\"y\",\"u\",\"v\",\"y\",\"u\",\"v\"],\"val\":[1,2,3,4,5,6]})\n",
    "test_df"
   ]
  },
  {
   "cell_type": "code",
   "execution_count": null,
   "metadata": {
    "id": "Scf4vEwQZKvH"
   },
   "outputs": [],
   "source": [
    "pivot_test_df=pd.pivot(test_df,index=\"a\",columns=\"b\",values=\"val\")\n",
    "pivot_test_df"
   ]
  },
  {
   "cell_type": "markdown",
   "metadata": {
    "id": "lZ2N-A_5ZKvI"
   },
   "source": [
    "- Melt de tabla (es la operación inversa de pivot)"
   ]
  },
  {
   "cell_type": "code",
   "execution_count": null,
   "metadata": {
    "id": "t-PGenLDZKvI"
   },
   "outputs": [],
   "source": [
    "pivot_test_df= pivot_test_df.reset_index()\n",
    "pivot_test_df"
   ]
  },
  {
   "cell_type": "code",
   "execution_count": null,
   "metadata": {
    "id": "qbMeFOQ4ZKvJ"
   },
   "outputs": [],
   "source": [
    "pd.melt(pivot_test_df,id_vars=[\"a\"],value_vars=[\"u\",\"v\",\"y\"],value_name=\"val\").sort_values(by=\"val\").reset_index(drop=True)"
   ]
  },
  {
   "cell_type": "markdown",
   "metadata": {
    "id": "LioXDc0hZKvJ"
   },
   "source": [
    "**Ejercicio:**\n",
    "5. Carga la siguiente tabla y consigue trasladar las fechas de las columnas a las filas sin que haya ningún record con valor nulo. (Pista, usa dropna())"
   ]
  },
  {
   "cell_type": "code",
   "execution_count": null,
   "metadata": {
    "id": "crUMRWGYZKvK"
   },
   "outputs": [],
   "source": [
    "ventas_df = pd.read_excel(\"ventas_para_melt.xlsx\")\n",
    "ventas_df"
   ]
  },
  {
   "cell_type": "code",
   "execution_count": null,
   "metadata": {
    "id": "VcL5LgETZKvK"
   },
   "outputs": [],
   "source": [
    "# Escribe tu código acá\n"
   ]
  },
  {
   "cell_type": "markdown",
   "metadata": {
    "id": "2dY2b_LpZKvL"
   },
   "source": [
    "- Agrupar dataframe y agregar valores"
   ]
  },
  {
   "cell_type": "code",
   "execution_count": null,
   "metadata": {
    "id": "djHpVpxaZKvL"
   },
   "outputs": [],
   "source": [
    "sub1_df = df.loc[:, [\"name\", \"dname\", \"enroll\", \"api00\"]].drop_duplicates(subset=[\"name\",\"dname\"])\n",
    "sub1_df"
   ]
  },
  {
   "cell_type": "markdown",
   "metadata": {
    "id": "a6D2zeKSZKvL"
   },
   "source": [
    "- Agregar columnas con la media agrupada por nombre de distrito"
   ]
  },
  {
   "cell_type": "code",
   "execution_count": null,
   "metadata": {
    "id": "CREHLdob6yTi"
   },
   "outputs": [],
   "source": [
    "gr_sub1_df = sub1_df.groupby(\"dname\").aggregate(np.mean)\n",
    "gr_sub1_df"
   ]
  },
  {
   "cell_type": "markdown",
   "metadata": {
    "id": "Z6pk5iZDZKvM"
   },
   "source": [
    "**Ejercicio:**</br>\n",
    "6. Leer la documentación https://pandas.pydata.org/pandas-docs/stable/reference/api/pandas.DataFrame.agg.html?highlight=agg#pandas.DataFrame.agg y aggregar la columna enroll por máximo y la columna api00 por media"
   ]
  },
  {
   "cell_type": "code",
   "execution_count": null,
   "metadata": {
    "id": "_BYpAQJcZKvN"
   },
   "outputs": [],
   "source": [
    "# Escribe tu código aquí\n"
   ]
  },
  {
   "cell_type": "markdown",
   "metadata": {
    "id": "Vufm6tjIZKvO"
   },
   "source": [
    "- Merge dataframes (SQL join)"
   ]
  },
  {
   "cell_type": "code",
   "execution_count": null,
   "metadata": {
    "id": "Aht8lh5dZKvQ"
   },
   "outputs": [],
   "source": [
    "test_df1 = pd.DataFrame({\"a\" : [\"a\",\"b\",\"c\",\"d\",\"b\",\"c\"],\"b\":[\"e\",\"f\",\"e\",\"g\",\"h\",\"k\"],\"val\":[1,2,3,4,5,6]})\n",
    "test_df2 = pd.DataFrame({\"a\" :[\"a\",\"u\",\"c\",\"d\",\"k\",\"c\"],\"b\":[\"e\",\"f\",\"e\",\"g\",\"h\",\"k\"],\"val\":[7,8,9,10,11,12]})\n",
    "test_df1.merge(test_df2,on=\"a\",how=\"inner\")"
   ]
  },
  {
   "cell_type": "code",
   "execution_count": null,
   "metadata": {
    "id": "ZgHUUX_jZKvR"
   },
   "outputs": [],
   "source": [
    "test_df1.merge(test_df2,on=\"a\",how=\"left\")"
   ]
  },
  {
   "cell_type": "code",
   "execution_count": null,
   "metadata": {
    "id": "JjKCcnPxZKvT"
   },
   "outputs": [],
   "source": [
    "test_df1.merge(test_df2,on=\"a\",how=\"right\")"
   ]
  },
  {
   "cell_type": "code",
   "execution_count": null,
   "metadata": {
    "id": "YDXqIJ0mZKvU"
   },
   "outputs": [],
   "source": [
    "test_df1.merge(test_df2,on=\"a\",how=\"outer\")"
   ]
  },
  {
   "cell_type": "markdown",
   "metadata": {
    "id": "XvpB2pg9ZKvW"
   },
   "source": [
    "**Ejercicios:** </br>\n",
    "7. Lee la documentación https://pandas.pydata.org/pandas-docs/stable/reference/api/pandas.DataFrame.merge.html?highlight=merge#pandas.DataFrame.merge y has un \"inner\" merge entre test_df1 y test_df2, pero considerando la columna a y la columna b simultáneamente."
   ]
  },
  {
   "cell_type": "code",
   "execution_count": null,
   "metadata": {
    "id": "pittnV4NZKvX"
   },
   "outputs": [],
   "source": [
    "# Escribe tu código acá\n"
   ]
  },
  {
   "cell_type": "markdown",
   "metadata": {
    "id": "ueyEPb1vZKvb"
   },
   "source": [
    "- El siguiente método es importante para volver a juntar todas las partes de un dataframe, luego de que se han realizado las transformacones (que se explican en la siguiente sección). El método que se usa es pd.concat() y tiene las siguientes reglas:\n",
    "    - Recibe una lista de dataframes y por defecto los concantena uno debajo de otro, alineando los nombres de las columnas\n",
    "    - Cuando se espcifica el argumento \"axis=1\", el método concatena los dataframes uno al lado del otro alineando el índice       de las filas\n",
    "    - Los espacios que quedan luego de realizar la alineación tanto en columnas of filas, dependiendo el caso, se rellenan       con valores nulos (np.nan) "
   ]
  },
  {
   "cell_type": "code",
   "execution_count": null,
   "metadata": {
    "id": "EC1psFYAZKvc"
   },
   "outputs": [],
   "source": [
    "test_df3 = pd.DataFrame({\"a\" :[\"a\",\"u\",\"c\",\"d\",\"k\",\"c\",\"l\"],\"b\":[\"e\",\"f\",\"e\",\"g\",\"h\",\"k\",\"n\"],\"val1\":[7,8,9,10,11,12,13]})\n",
    "test_df1_df2_v_df = pd.concat([test_df1,test_df2,test_df3])\n",
    "test_df1_df2_v_df"
   ]
  },
  {
   "cell_type": "code",
   "execution_count": null,
   "metadata": {
    "id": "3V38t0o3ZKvr"
   },
   "outputs": [],
   "source": [
    "test_df1_df2_h_df = pd.concat([test_df1,test_df2,test_df3],axis=1)\n",
    "test_df1_df2_h_df"
   ]
  },
  {
   "cell_type": "markdown",
   "metadata": {
    "id": "3Ha5BFmO6yUS"
   },
   "source": [
    "## Transformación de variables"
   ]
  },
  {
   "cell_type": "markdown",
   "metadata": {
    "id": "Zzee1Nn8ZKvs"
   },
   "source": [
    "- Añadir columnas transformadas con operaciones matemáticas"
   ]
  },
  {
   "cell_type": "code",
   "execution_count": null,
   "metadata": {
    "id": "Xn4zlvL76yUT",
    "scrolled": true
   },
   "outputs": [],
   "source": [
    "filter_df1 = unq_df.loc[:,[\"name\",\"dname\",\"cname\",\"enroll\",\"api00\"]]\n",
    "filter_df1.loc[:,\"logenroll\"] = filter_df1[\"enroll\"].apply(np.log)\n",
    "filter_df1.loc[:,\"logapi00\"] = filter_df1[\"api00\"].apply(np.log)\n",
    "filter_df1.loc[:,\"enroll_p\"] = filter_df1[\"enroll\"]**0.5\n",
    "filter_df1.head(5)"
   ]
  },
  {
   "cell_type": "markdown",
   "metadata": {
    "id": "iIaiipUPZKvt"
   },
   "source": [
    "- Transformaciones polinomiales"
   ]
  },
  {
   "cell_type": "code",
   "execution_count": null,
   "metadata": {
    "id": "C2OBsJmm6yUk"
   },
   "outputs": [],
   "source": [
    "filter_col_df1 = filter_df1.loc[:,[\"enroll\",\"api00\"]].dropna(how=\"any\")\n",
    "filter_col_df1.head(5)"
   ]
  },
  {
   "cell_type": "code",
   "execution_count": null,
   "metadata": {
    "id": "_8nQ7laz6yUp"
   },
   "outputs": [],
   "source": [
    "# Importemos una libreria que nos facilite este proceso...\n",
    "from sklearn.preprocessing import PolynomialFeatures\n",
    "\n",
    "# Definamos el grado del polinomio\n",
    "poly = PolynomialFeatures(degree=2)\n",
    "filter_col_poly_df1 = pd.DataFrame(\n",
    "    poly.fit_transform(filter_col_df1)\n",
    ") \n",
    "filter_col_poly_df1.head(5)"
   ]
  },
  {
   "cell_type": "markdown",
   "metadata": {
    "id": "eQ7uAvuPZKvu"
   },
   "source": [
    "- Escalamiento/Normalización de variables numéricas"
   ]
  },
  {
   "cell_type": "code",
   "execution_count": null,
   "metadata": {
    "id": "KlvNULGw6yUs"
   },
   "outputs": [],
   "source": [
    "filter_col_poly_df1.describe()"
   ]
  },
  {
   "cell_type": "code",
   "execution_count": null,
   "metadata": {
    "id": "3SnIsqDG6yUv"
   },
   "outputs": [],
   "source": [
    "from sklearn import preprocessing\n",
    "filter_col_df1_norm = pd.DataFrame(preprocessing.scale(filter_col_df1))\n",
    "filter_col_df1_norm.head(5)"
   ]
  },
  {
   "cell_type": "code",
   "execution_count": null,
   "metadata": {
    "id": "97a1fZfK6yUz"
   },
   "outputs": [],
   "source": [
    "filter_col_df1_norm.describe().round(2)"
   ]
  },
  {
   "cell_type": "markdown",
   "metadata": {
    "id": "oOqdlhC9ZKvw"
   },
   "source": [
    "- Binarización de varaibles categóricas\n"
   ]
  },
  {
   "cell_type": "code",
   "execution_count": null,
   "metadata": {
    "id": "wAz3xBkV6yU3"
   },
   "outputs": [],
   "source": [
    "cat_df = filter_df1.loc[filter_df1.loc[:,\"cname\"].isin([\"Los Angeles\",\"San Diego\",\"Santa Clara\"]),[\"cname\"]]\n",
    "cat_df[\"cname\"].value_counts()"
   ]
  },
  {
   "cell_type": "code",
   "execution_count": null,
   "metadata": {
    "id": "_Q4Vg6vv6yU5"
   },
   "outputs": [],
   "source": [
    "dummies_df = pd.get_dummies(cat_df) \n",
    "dummies_df.head()"
   ]
  },
  {
   "cell_type": "markdown",
   "metadata": {
    "id": "Qbxrri9JZKvx"
   },
   "source": [
    "**Ejercicios:**</br>\n",
    "8. Para correr cualquier modelo de Machine Learning sobre cualquier dataset, todos los valores han tenido que ser numerizados. Get dummies nos permite hacer esto con valores categóricos. Aplica get_dumies() sobre la columna PRODUCTOS del dataframe melt_ventas_df"
   ]
  },
  {
   "cell_type": "code",
   "execution_count": null,
   "metadata": {},
   "outputs": [],
   "source": [
    "# Escribe tu código acá\n"
   ]
  }
 ],
 "metadata": {
  "colab": {
   "name": "procesamiento_basico_de_datos.ipynb",
   "provenance": []
  },
  "kernelspec": {
   "display_name": "Python 3 (ipykernel)",
   "language": "python",
   "name": "python3"
  },
  "language_info": {
   "codemirror_mode": {
    "name": "ipython",
    "version": 3
   },
   "file_extension": ".py",
   "mimetype": "text/x-python",
   "name": "python",
   "nbconvert_exporter": "python",
   "pygments_lexer": "ipython3",
   "version": "3.9.12"
  }
 },
 "nbformat": 4,
 "nbformat_minor": 4
}
